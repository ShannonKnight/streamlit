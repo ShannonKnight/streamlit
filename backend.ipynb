{
 "cells": [
  {
   "cell_type": "code",
   "execution_count": 3,
   "id": "8105b15d",
   "metadata": {},
   "outputs": [],
   "source": [
    "import pandas as pd\n",
    "import matplotlib.pyplot as plt\n",
    "\n",
    "def load_data():\n",
    "    data = pd.read_csv(\"https://raw.githubusercontent.com/data-bootcamp-v4/data/main/supermarket_sales.csv\")\n",
    "    data['Date'] = pd.to_datetime(data['Date'])\n",
    "    return data\n",
    "\n",
    "def get_summary(data):\n",
    "    summary = pd.DataFrame({\n",
    "        'Total Sales': [data['Total'].sum()],\n",
    "        'Average Rating': [data['Rating'].mean()],\n",
    "        'Total Transactions': [data['Invoice ID'].nunique()]\n",
    "    })\n",
    "    return summary\n",
    "\n",
    "def plot_sales_over_time(data):\n",
    "    data['Date'] = pd.to_datetime(data['Date'])\n",
    "    sales_over_time = data.groupby(data['Date'].dt.date)['Total'].sum()\n",
    "    plt.figure(figsize=(10, 5))\n",
    "    plt.plot(sales_over_time.index, sales_over_time.values)\n",
    "    plt.title('Sales Over Time')\n",
    "    plt.xlabel('Date')\n",
    "    plt.ylabel('Total Sales')\n",
    "    plt.xticks(rotation=45)\n",
    "    plt.tight_layout()\n",
    "    return plt\n"
   ]
  },
  {
   "cell_type": "code",
   "execution_count": null,
   "id": "17524c92",
   "metadata": {},
   "outputs": [],
   "source": []
  }
 ],
 "metadata": {
  "kernelspec": {
   "display_name": "Python 3 (ipykernel)",
   "language": "python",
   "name": "python3"
  },
  "language_info": {
   "codemirror_mode": {
    "name": "ipython",
    "version": 3
   },
   "file_extension": ".py",
   "mimetype": "text/x-python",
   "name": "python",
   "nbconvert_exporter": "python",
   "pygments_lexer": "ipython3",
   "version": "3.11.5"
  }
 },
 "nbformat": 4,
 "nbformat_minor": 5
}
